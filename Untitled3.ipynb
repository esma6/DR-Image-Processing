{
 "cells": [
  {
   "cell_type": "code",
   "execution_count": 2,
   "id": "5419faef",
   "metadata": {},
   "outputs": [],
   "source": [
    "import cv2\n",
    "import os\n",
    "\n",
    "# Görüntüleri yükleyeceğimiz klasör\n",
    "input_folder = \"C:/Users/ESMA/Desktop/dataset/train_images\"\n",
    "\n",
    "# İşlenmiş görüntüleri kaydedeceğimiz klasör\n",
    "output_folder = \"C:/Users/ESMA/Desktop/dataset/GaussianBlur\"\n",
    "\n",
    "# Görüntülerin işleneceği işlev\n",
    "def process_image(image):\n",
    "    # GaussianBlur uygula (kernel boyutu 5x5, standart sapma 0)\n",
    "    blurred = cv2.GaussianBlur(image, (0, 0), 10)\n",
    "    # İşlenmiş görüntüyü döndür\n",
    "    return blurred\n",
    "\n",
    "# Girdi klasöründeki tüm görüntüleri işle\n",
    "for filename in os.listdir(input_folder):\n",
    "    # Görüntüyü yükle\n",
    "    image = cv2.imread(os.path.join(input_folder, filename))\n",
    "    # Görüntüyü işle\n",
    "    processed_image = process_image(image)\n",
    "    # İşlenmiş görüntüyü kaydet\n",
    "    cv2.imwrite(os.path.join(output_folder, filename), processed_image)\n"
   ]
  },
  {
   "cell_type": "code",
   "execution_count": null,
   "id": "31edd355",
   "metadata": {},
   "outputs": [],
   "source": []
  }
 ],
 "metadata": {
  "kernelspec": {
   "display_name": "Python 3 (ipykernel)",
   "language": "python",
   "name": "python3"
  },
  "language_info": {
   "codemirror_mode": {
    "name": "ipython",
    "version": 3
   },
   "file_extension": ".py",
   "mimetype": "text/x-python",
   "name": "python",
   "nbconvert_exporter": "python",
   "pygments_lexer": "ipython3",
   "version": "3.9.12"
  }
 },
 "nbformat": 4,
 "nbformat_minor": 5
}
